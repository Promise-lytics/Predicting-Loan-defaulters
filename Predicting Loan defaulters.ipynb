{
 "cells": [
  {
   "cell_type": "code",
   "execution_count": 1,
   "metadata": {},
   "outputs": [],
   "source": [
    "#Importing the needed library \n",
    "\n",
    "import pandas as pd\n",
    "import numpy as np\n",
    "import seaborn as sns\n",
    "import matplotlib.pyplot as plt\n",
    "\n",
    "%matplotlib inline\n",
    "import warnings\n",
    "warnings.filterwarnings(\"ignore\")"
   ]
  },
  {
   "cell_type": "code",
   "execution_count": 2,
   "metadata": {},
   "outputs": [],
   "source": [
    "# load datasets\n",
    "train = pd.read_csv('C:/Users/USER/Downloads/Train.csv')\n",
    "test  = pd.read_csv('C:/Users/USER/Downloads/Test.csv')\n",
    "sample  = pd.read_csv('C:/Users/USER/Downloads/SampleSubmission.csv')"
   ]
  },
  {
   "cell_type": "code",
   "execution_count": 3,
   "metadata": {},
   "outputs": [
    {
     "data": {
      "text/html": [
       "<div>\n",
       "<style scoped>\n",
       "    .dataframe tbody tr th:only-of-type {\n",
       "        vertical-align: middle;\n",
       "    }\n",
       "\n",
       "    .dataframe tbody tr th {\n",
       "        vertical-align: top;\n",
       "    }\n",
       "\n",
       "    .dataframe thead th {\n",
       "        text-align: right;\n",
       "    }\n",
       "</style>\n",
       "<table border=\"1\" class=\"dataframe\">\n",
       "  <thead>\n",
       "    <tr style=\"text-align: right;\">\n",
       "      <th></th>\n",
       "      <th>Applicant_ID</th>\n",
       "      <th>form_field1</th>\n",
       "      <th>form_field2</th>\n",
       "      <th>form_field3</th>\n",
       "      <th>form_field4</th>\n",
       "      <th>form_field5</th>\n",
       "      <th>form_field6</th>\n",
       "      <th>form_field7</th>\n",
       "      <th>form_field8</th>\n",
       "      <th>form_field9</th>\n",
       "      <th>...</th>\n",
       "      <th>form_field42</th>\n",
       "      <th>form_field43</th>\n",
       "      <th>form_field44</th>\n",
       "      <th>form_field45</th>\n",
       "      <th>form_field46</th>\n",
       "      <th>form_field47</th>\n",
       "      <th>form_field48</th>\n",
       "      <th>form_field49</th>\n",
       "      <th>form_field50</th>\n",
       "      <th>default_status</th>\n",
       "    </tr>\n",
       "  </thead>\n",
       "  <tbody>\n",
       "    <tr>\n",
       "      <td>0</td>\n",
       "      <td>Apcnt_1000000</td>\n",
       "      <td>3436.0</td>\n",
       "      <td>0.28505</td>\n",
       "      <td>1.6560</td>\n",
       "      <td>0.0</td>\n",
       "      <td>0.000</td>\n",
       "      <td>0.0</td>\n",
       "      <td>10689720.0</td>\n",
       "      <td>252072.0</td>\n",
       "      <td>4272776.0</td>\n",
       "      <td>...</td>\n",
       "      <td>0.392854</td>\n",
       "      <td>2.02</td>\n",
       "      <td>0.711632</td>\n",
       "      <td>0.0</td>\n",
       "      <td>0.0</td>\n",
       "      <td>charge</td>\n",
       "      <td>NaN</td>\n",
       "      <td>1.129518</td>\n",
       "      <td>0.044335</td>\n",
       "      <td>no</td>\n",
       "    </tr>\n",
       "    <tr>\n",
       "      <td>1</td>\n",
       "      <td>Apcnt_1000004</td>\n",
       "      <td>3456.0</td>\n",
       "      <td>0.67400</td>\n",
       "      <td>0.2342</td>\n",
       "      <td>0.0</td>\n",
       "      <td>0.000</td>\n",
       "      <td>0.0</td>\n",
       "      <td>898979.0</td>\n",
       "      <td>497531.0</td>\n",
       "      <td>9073814.0</td>\n",
       "      <td>...</td>\n",
       "      <td>0.314281</td>\n",
       "      <td>8.08</td>\n",
       "      <td>0.183584</td>\n",
       "      <td>NaN</td>\n",
       "      <td>0.0</td>\n",
       "      <td>charge</td>\n",
       "      <td>349.805730</td>\n",
       "      <td>1.620483</td>\n",
       "      <td>0.322436</td>\n",
       "      <td>no</td>\n",
       "    </tr>\n",
       "    <tr>\n",
       "      <td>2</td>\n",
       "      <td>Apcnt_1000008</td>\n",
       "      <td>3276.0</td>\n",
       "      <td>0.53845</td>\n",
       "      <td>3.1510</td>\n",
       "      <td>0.0</td>\n",
       "      <td>6.282</td>\n",
       "      <td>NaN</td>\n",
       "      <td>956940.0</td>\n",
       "      <td>NaN</td>\n",
       "      <td>192944.0</td>\n",
       "      <td>...</td>\n",
       "      <td>0.162965</td>\n",
       "      <td>18.18</td>\n",
       "      <td>0.791136</td>\n",
       "      <td>0.0</td>\n",
       "      <td>0.0</td>\n",
       "      <td>charge</td>\n",
       "      <td>NaN</td>\n",
       "      <td>1.513370</td>\n",
       "      <td>0.011640</td>\n",
       "      <td>yes</td>\n",
       "    </tr>\n",
       "    <tr>\n",
       "      <td>3</td>\n",
       "      <td>Apcnt_1000012</td>\n",
       "      <td>3372.0</td>\n",
       "      <td>0.17005</td>\n",
       "      <td>0.5050</td>\n",
       "      <td>0.0</td>\n",
       "      <td>0.000</td>\n",
       "      <td>192166.0</td>\n",
       "      <td>3044703.0</td>\n",
       "      <td>385499.0</td>\n",
       "      <td>3986472.0</td>\n",
       "      <td>...</td>\n",
       "      <td>0.488884</td>\n",
       "      <td>2.02</td>\n",
       "      <td>0.685168</td>\n",
       "      <td>NaN</td>\n",
       "      <td>0.0</td>\n",
       "      <td>charge</td>\n",
       "      <td>89.940100</td>\n",
       "      <td>0.664452</td>\n",
       "      <td>0.082729</td>\n",
       "      <td>no</td>\n",
       "    </tr>\n",
       "    <tr>\n",
       "      <td>4</td>\n",
       "      <td>Apcnt_1000016</td>\n",
       "      <td>3370.0</td>\n",
       "      <td>0.77270</td>\n",
       "      <td>1.1010</td>\n",
       "      <td>0.0</td>\n",
       "      <td>0.000</td>\n",
       "      <td>1556.0</td>\n",
       "      <td>214728.0</td>\n",
       "      <td>214728.0</td>\n",
       "      <td>1284089.0</td>\n",
       "      <td>...</td>\n",
       "      <td>0.275000</td>\n",
       "      <td>12.12</td>\n",
       "      <td>0.438168</td>\n",
       "      <td>0.0</td>\n",
       "      <td>0.0</td>\n",
       "      <td>charge</td>\n",
       "      <td>97.887502</td>\n",
       "      <td>1.427891</td>\n",
       "      <td>0.045630</td>\n",
       "      <td>no</td>\n",
       "    </tr>\n",
       "  </tbody>\n",
       "</table>\n",
       "<p>5 rows × 52 columns</p>\n",
       "</div>"
      ],
      "text/plain": [
       "    Applicant_ID  form_field1  form_field2  form_field3  form_field4  \\\n",
       "0  Apcnt_1000000       3436.0      0.28505       1.6560          0.0   \n",
       "1  Apcnt_1000004       3456.0      0.67400       0.2342          0.0   \n",
       "2  Apcnt_1000008       3276.0      0.53845       3.1510          0.0   \n",
       "3  Apcnt_1000012       3372.0      0.17005       0.5050          0.0   \n",
       "4  Apcnt_1000016       3370.0      0.77270       1.1010          0.0   \n",
       "\n",
       "   form_field5  form_field6  form_field7  form_field8  form_field9  ...  \\\n",
       "0        0.000          0.0   10689720.0     252072.0    4272776.0  ...   \n",
       "1        0.000          0.0     898979.0     497531.0    9073814.0  ...   \n",
       "2        6.282          NaN     956940.0          NaN     192944.0  ...   \n",
       "3        0.000     192166.0    3044703.0     385499.0    3986472.0  ...   \n",
       "4        0.000       1556.0     214728.0     214728.0    1284089.0  ...   \n",
       "\n",
       "   form_field42  form_field43  form_field44  form_field45  form_field46  \\\n",
       "0      0.392854          2.02      0.711632           0.0           0.0   \n",
       "1      0.314281          8.08      0.183584           NaN           0.0   \n",
       "2      0.162965         18.18      0.791136           0.0           0.0   \n",
       "3      0.488884          2.02      0.685168           NaN           0.0   \n",
       "4      0.275000         12.12      0.438168           0.0           0.0   \n",
       "\n",
       "   form_field47  form_field48  form_field49  form_field50  default_status  \n",
       "0        charge           NaN      1.129518      0.044335              no  \n",
       "1        charge    349.805730      1.620483      0.322436              no  \n",
       "2        charge           NaN      1.513370      0.011640             yes  \n",
       "3        charge     89.940100      0.664452      0.082729              no  \n",
       "4        charge     97.887502      1.427891      0.045630              no  \n",
       "\n",
       "[5 rows x 52 columns]"
      ]
     },
     "execution_count": 3,
     "metadata": {},
     "output_type": "execute_result"
    }
   ],
   "source": [
    "train.head()"
   ]
  },
  {
   "cell_type": "code",
   "execution_count": 4,
   "metadata": {},
   "outputs": [
    {
     "data": {
      "text/html": [
       "<div>\n",
       "<style scoped>\n",
       "    .dataframe tbody tr th:only-of-type {\n",
       "        vertical-align: middle;\n",
       "    }\n",
       "\n",
       "    .dataframe tbody tr th {\n",
       "        vertical-align: top;\n",
       "    }\n",
       "\n",
       "    .dataframe thead th {\n",
       "        text-align: right;\n",
       "    }\n",
       "</style>\n",
       "<table border=\"1\" class=\"dataframe\">\n",
       "  <thead>\n",
       "    <tr style=\"text-align: right;\">\n",
       "      <th></th>\n",
       "      <th>Applicant_ID</th>\n",
       "      <th>form_field1</th>\n",
       "      <th>form_field2</th>\n",
       "      <th>form_field3</th>\n",
       "      <th>form_field4</th>\n",
       "      <th>form_field5</th>\n",
       "      <th>form_field6</th>\n",
       "      <th>form_field7</th>\n",
       "      <th>form_field8</th>\n",
       "      <th>form_field9</th>\n",
       "      <th>...</th>\n",
       "      <th>form_field41</th>\n",
       "      <th>form_field42</th>\n",
       "      <th>form_field43</th>\n",
       "      <th>form_field44</th>\n",
       "      <th>form_field45</th>\n",
       "      <th>form_field46</th>\n",
       "      <th>form_field47</th>\n",
       "      <th>form_field48</th>\n",
       "      <th>form_field49</th>\n",
       "      <th>form_field50</th>\n",
       "    </tr>\n",
       "  </thead>\n",
       "  <tbody>\n",
       "    <tr>\n",
       "      <td>0</td>\n",
       "      <td>Apcnt_1000032</td>\n",
       "      <td>3236.0</td>\n",
       "      <td>0.34875</td>\n",
       "      <td>10.2006</td>\n",
       "      <td>0.0000</td>\n",
       "      <td>0.0</td>\n",
       "      <td>418564.0</td>\n",
       "      <td>418564.0</td>\n",
       "      <td>418564.0</td>\n",
       "      <td>540710.0</td>\n",
       "      <td>...</td>\n",
       "      <td>NaN</td>\n",
       "      <td>0.825000</td>\n",
       "      <td>1.01</td>\n",
       "      <td>0.800000</td>\n",
       "      <td>NaN</td>\n",
       "      <td>0.0</td>\n",
       "      <td>charge</td>\n",
       "      <td>NaN</td>\n",
       "      <td>0.000000</td>\n",
       "      <td>0.011221</td>\n",
       "    </tr>\n",
       "    <tr>\n",
       "      <td>1</td>\n",
       "      <td>Apcnt_1000048</td>\n",
       "      <td>3284.0</td>\n",
       "      <td>1.27360</td>\n",
       "      <td>2.9606</td>\n",
       "      <td>9.0198</td>\n",
       "      <td>0.0</td>\n",
       "      <td>0.0</td>\n",
       "      <td>9858816.0</td>\n",
       "      <td>49014.0</td>\n",
       "      <td>1510098.0</td>\n",
       "      <td>...</td>\n",
       "      <td>18.8415</td>\n",
       "      <td>0.507694</td>\n",
       "      <td>4.04</td>\n",
       "      <td>0.623248</td>\n",
       "      <td>1.0</td>\n",
       "      <td>0.0</td>\n",
       "      <td>lending</td>\n",
       "      <td>NaN</td>\n",
       "      <td>0.504974</td>\n",
       "      <td>0.043525</td>\n",
       "    </tr>\n",
       "    <tr>\n",
       "      <td>2</td>\n",
       "      <td>Apcnt_1000052</td>\n",
       "      <td>NaN</td>\n",
       "      <td>0.27505</td>\n",
       "      <td>0.0600</td>\n",
       "      <td>0.0000</td>\n",
       "      <td>0.0</td>\n",
       "      <td>NaN</td>\n",
       "      <td>NaN</td>\n",
       "      <td>NaN</td>\n",
       "      <td>NaN</td>\n",
       "      <td>...</td>\n",
       "      <td>NaN</td>\n",
       "      <td>NaN</td>\n",
       "      <td>0.00</td>\n",
       "      <td>NaN</td>\n",
       "      <td>NaN</td>\n",
       "      <td>NaN</td>\n",
       "      <td>charge</td>\n",
       "      <td>NaN</td>\n",
       "      <td>0.000000</td>\n",
       "      <td>NaN</td>\n",
       "    </tr>\n",
       "    <tr>\n",
       "      <td>3</td>\n",
       "      <td>Apcnt_1000076</td>\n",
       "      <td>3232.0</td>\n",
       "      <td>0.28505</td>\n",
       "      <td>2.8032</td>\n",
       "      <td>0.0000</td>\n",
       "      <td>0.0</td>\n",
       "      <td>0.0</td>\n",
       "      <td>473802.0</td>\n",
       "      <td>473802.0</td>\n",
       "      <td>1724437.0</td>\n",
       "      <td>...</td>\n",
       "      <td>NaN</td>\n",
       "      <td>0.916663</td>\n",
       "      <td>2.02</td>\n",
       "      <td>0.464224</td>\n",
       "      <td>NaN</td>\n",
       "      <td>NaN</td>\n",
       "      <td>charge</td>\n",
       "      <td>90.163742</td>\n",
       "      <td>0.788809</td>\n",
       "      <td>0.104029</td>\n",
       "    </tr>\n",
       "    <tr>\n",
       "      <td>4</td>\n",
       "      <td>Apcnt_1000080</td>\n",
       "      <td>3466.0</td>\n",
       "      <td>2.09545</td>\n",
       "      <td>0.8318</td>\n",
       "      <td>2.5182</td>\n",
       "      <td>0.0</td>\n",
       "      <td>19839.0</td>\n",
       "      <td>1150662.0</td>\n",
       "      <td>1150662.0</td>\n",
       "      <td>7860523.0</td>\n",
       "      <td>...</td>\n",
       "      <td>NaN</td>\n",
       "      <td>0.234047</td>\n",
       "      <td>23.23</td>\n",
       "      <td>0.726688</td>\n",
       "      <td>0.0</td>\n",
       "      <td>0.0</td>\n",
       "      <td>lending</td>\n",
       "      <td>1303.587148</td>\n",
       "      <td>1.637733</td>\n",
       "      <td>0.163124</td>\n",
       "    </tr>\n",
       "  </tbody>\n",
       "</table>\n",
       "<p>5 rows × 51 columns</p>\n",
       "</div>"
      ],
      "text/plain": [
       "    Applicant_ID  form_field1  form_field2  form_field3  form_field4  \\\n",
       "0  Apcnt_1000032       3236.0      0.34875      10.2006       0.0000   \n",
       "1  Apcnt_1000048       3284.0      1.27360       2.9606       9.0198   \n",
       "2  Apcnt_1000052          NaN      0.27505       0.0600       0.0000   \n",
       "3  Apcnt_1000076       3232.0      0.28505       2.8032       0.0000   \n",
       "4  Apcnt_1000080       3466.0      2.09545       0.8318       2.5182   \n",
       "\n",
       "   form_field5  form_field6  form_field7  form_field8  form_field9  ...  \\\n",
       "0          0.0     418564.0     418564.0     418564.0     540710.0  ...   \n",
       "1          0.0          0.0    9858816.0      49014.0    1510098.0  ...   \n",
       "2          0.0          NaN          NaN          NaN          NaN  ...   \n",
       "3          0.0          0.0     473802.0     473802.0    1724437.0  ...   \n",
       "4          0.0      19839.0    1150662.0    1150662.0    7860523.0  ...   \n",
       "\n",
       "   form_field41  form_field42  form_field43  form_field44  form_field45  \\\n",
       "0           NaN      0.825000          1.01      0.800000           NaN   \n",
       "1       18.8415      0.507694          4.04      0.623248           1.0   \n",
       "2           NaN           NaN          0.00           NaN           NaN   \n",
       "3           NaN      0.916663          2.02      0.464224           NaN   \n",
       "4           NaN      0.234047         23.23      0.726688           0.0   \n",
       "\n",
       "   form_field46  form_field47  form_field48  form_field49  form_field50  \n",
       "0           0.0        charge           NaN      0.000000      0.011221  \n",
       "1           0.0       lending           NaN      0.504974      0.043525  \n",
       "2           NaN        charge           NaN      0.000000           NaN  \n",
       "3           NaN        charge     90.163742      0.788809      0.104029  \n",
       "4           0.0       lending   1303.587148      1.637733      0.163124  \n",
       "\n",
       "[5 rows x 51 columns]"
      ]
     },
     "execution_count": 4,
     "metadata": {},
     "output_type": "execute_result"
    }
   ],
   "source": [
    "test.head()"
   ]
  },
  {
   "cell_type": "code",
   "execution_count": null,
   "metadata": {},
   "outputs": [],
   "source": [
    "#the columns as they are represented\n",
    "\n",
    "columns={'form_field1':'Customer Creditworthiness score based on historical data',\n",
    "                        'form_field2':'A score that measures the number and riskiness of credit enquiries made by a borrower',\n",
    "                        'form_field3':'Severity of default by the borrower on any loan(s)',\n",
    "                        'form_field4':'Severity of default by the borrower on auto loan(s)',\n",
    "                        'form_field5':'Severity of default by the borrower on education loan(s)',\n",
    "                        'form_field6':'Minimum of credit available on all credit cards that is automatically renewed as debts are paid off on the customer’s cards (in NGN)',\n",
    "                        'form_field7':'Maximum of credit available on customer’s active credit lines (in NGN)',\n",
    "                        'form_field8':'Maximum of credit available on all active credit cards that is automatically renewed as debts are paid off on the customer’s cards (in NGN)',\n",
    "                        'form_field9':'Sum of available credit on credit cards that the borrower has missed 1 payment (in NGN)',\n",
    "                        'form_field10':'Total amount of credit available on accepted credit lines (in NGN)',\n",
    "                        'form_field11':'The amount of dues collected post-default where the due amount was more than 500 (in NGN)',\n",
    "                        'form_field12':'Sum of the amount due on active credit cards (in NGN)',\n",
    "                        'form_field13':'Annual amount paid towards all credit cards during the previous year (in NGN)',\n",
    "                        'form_field14':'Annual income (in NGN)',\n",
    "                        'form_field15':'The estimated market value of a property owned/used by the borrower (in NGN)',\n",
    "                        'form_field16':' Number of active credit card that is automatically renewed as debts are paid off on which full credit limit is utilized by the borrower',\n",
    "                        'form_field17':'Number of active credit cards on which full credit limit is utilized by the borrower',\n",
    "                        'form_field18':'Number of active credit lines on which full credit limit is utilized by the borrower',\n",
    "                        'form_field19':'Number of active credit cards on which at least 75% credit limit is utilized by the borrower',\n",
    "                        'form_field20':'Number of active credit lines on which at least 75% credit limit is utilized by the borrower',\n",
    "                        'form_field21':'Average utilization of active revolving credit card loans (%)',\n",
    "                        'form_field22':'Average utilization of line on all active credit lines activated in last 2 years (%)',\n",
    "                        'form_field23':'Average utilization of line on all active credit cards activated in last 1 year (%)',\n",
    "                        'form_field24':'Average utilization of line on credit cards on which the borrower has missed 1 payment during the last 6 months (%)',\n",
    "                        'form_field25':'Average tenure of active revolving credit cards (in days)',\n",
    "                        'form_field26':'Tenure of oldest credit card among all active credit cards (in days)',\n",
    "                        'form_field27':'Tenure of oldest revolving credit card among all active revolving credit cards (in days)',\n",
    "                        'form_field28':'Number of days since last missed payment on any credit line',\n",
    "                        'form_field29':'Tenure of the oldest credit line (in days)',\n",
    "                        'form_field30':'Maximum tenure on all auto loans (in days)',\n",
    "                        'form_field31':'Maximum tenure on all education loans (in days)',\n",
    "                        'form_field32':'Sum of tenures (in months) of active credit cards',\n",
    "                        'form_field33':'Sum of tenures (in months) of active credit cards',\n",
    "                        'form_field34':'Number of active credit lines over the last 6 months on which the borrower has missed 1 payment',\n",
    "                        'form_field35':'Number of revolving credit cards over the last 2 years on which the borrower has missed 1 payment',\n",
    "                        'form_field36':'Number of active credit lines',\n",
    "                        'form_field37':'Number of credit cards with an active tenure of at least 2 years',\n",
    "                        'form_field38':'Number of credit lines activated in the last 2 years',\n",
    "                        'form_field39':'Number of credit lines on which the borrower has current delinquency',\n",
    "                        'form_field40':'Utilization of line on active education loans (%)',\n",
    "                        'form_field41':'Utilization of line on active auto loans (%)',\n",
    "                        'form_field42':'Financial stress index of the borrower. This index is a function of collection trades, bankruptcies files, tax liens invoked, etc.',\n",
    "                        'form_field43':'Number of credit lines on which the borrower has never missed a payment in the,last 2 years, yet considered as high-risk loans based on the market prediction of the economic scenario',\n",
    "                        'form_field44':'Ratio of the maximum amount due on all active credit lines and the sum of amounts due on all active credit lines',\n",
    "                        'form_field45':'Number of mortgage loans on which the borrower has missed 2 payments',\n",
    "                        'form_field46':'Number of auto loans on which the borrower has missed 2 payments',\n",
    "                        'form_field47':'Type of product that the applicant applied for. (C = Charge; L = Lending)',\n",
    "                        'form_field48':'Undefined Variable',\n",
    "                        'form_field49':'Undefined Variable',\n",
    "                        'form_field50':'Ratio of the minimum amount due on all active credit lines and the sum of amounts due on all active credit lines',\n",
    "                        'default_status':'defaulted or not.(yes:1, no: 0)'})\n"
   ]
  },
  {
   "cell_type": "code",
   "execution_count": 5,
   "metadata": {},
   "outputs": [],
   "source": [
    "train_original = train.copy()\n",
    "test_original = test.copy()"
   ]
  },
  {
   "cell_type": "code",
   "execution_count": 6,
   "metadata": {},
   "outputs": [
    {
     "data": {
      "text/plain": [
       "Index(['Applicant_ID', 'form_field1', 'form_field2', 'form_field3',\n",
       "       'form_field4', 'form_field5', 'form_field6', 'form_field7',\n",
       "       'form_field8', 'form_field9', 'form_field10', 'form_field11',\n",
       "       'form_field12', 'form_field13', 'form_field14', 'form_field15',\n",
       "       'form_field16', 'form_field17', 'form_field18', 'form_field19',\n",
       "       'form_field20', 'form_field21', 'form_field22', 'form_field23',\n",
       "       'form_field24', 'form_field25', 'form_field26', 'form_field27',\n",
       "       'form_field28', 'form_field29', 'form_field30', 'form_field31',\n",
       "       'form_field32', 'form_field33', 'form_field34', 'form_field35',\n",
       "       'form_field36', 'form_field37', 'form_field38', 'form_field39',\n",
       "       'form_field40', 'form_field41', 'form_field42', 'form_field43',\n",
       "       'form_field44', 'form_field45', 'form_field46', 'form_field47',\n",
       "       'form_field48', 'form_field49', 'form_field50', 'default_status'],\n",
       "      dtype='object')"
      ]
     },
     "execution_count": 6,
     "metadata": {},
     "output_type": "execute_result"
    }
   ],
   "source": [
    "train.columns"
   ]
  },
  {
   "cell_type": "code",
   "execution_count": 7,
   "metadata": {},
   "outputs": [
    {
     "data": {
      "text/plain": [
       "Index(['Applicant_ID', 'form_field1', 'form_field2', 'form_field3',\n",
       "       'form_field4', 'form_field5', 'form_field6', 'form_field7',\n",
       "       'form_field8', 'form_field9', 'form_field10', 'form_field11',\n",
       "       'form_field12', 'form_field13', 'form_field14', 'form_field15',\n",
       "       'form_field16', 'form_field17', 'form_field18', 'form_field19',\n",
       "       'form_field20', 'form_field21', 'form_field22', 'form_field23',\n",
       "       'form_field24', 'form_field25', 'form_field26', 'form_field27',\n",
       "       'form_field28', 'form_field29', 'form_field30', 'form_field31',\n",
       "       'form_field32', 'form_field33', 'form_field34', 'form_field35',\n",
       "       'form_field36', 'form_field37', 'form_field38', 'form_field39',\n",
       "       'form_field40', 'form_field41', 'form_field42', 'form_field43',\n",
       "       'form_field44', 'form_field45', 'form_field46', 'form_field47',\n",
       "       'form_field48', 'form_field49', 'form_field50'],\n",
       "      dtype='object')"
      ]
     },
     "execution_count": 7,
     "metadata": {},
     "output_type": "execute_result"
    }
   ],
   "source": [
    "test.columns"
   ]
  },
  {
   "cell_type": "code",
   "execution_count": 8,
   "metadata": {},
   "outputs": [
    {
     "data": {
      "text/plain": [
       "Applicant_ID       object\n",
       "form_field1       float64\n",
       "form_field2       float64\n",
       "form_field3       float64\n",
       "form_field4       float64\n",
       "form_field5       float64\n",
       "form_field6       float64\n",
       "form_field7       float64\n",
       "form_field8       float64\n",
       "form_field9       float64\n",
       "form_field10      float64\n",
       "form_field11      float64\n",
       "form_field12      float64\n",
       "form_field13      float64\n",
       "form_field14        int64\n",
       "form_field15      float64\n",
       "form_field16      float64\n",
       "form_field17      float64\n",
       "form_field18      float64\n",
       "form_field19      float64\n",
       "form_field20      float64\n",
       "form_field21      float64\n",
       "form_field22      float64\n",
       "form_field23      float64\n",
       "form_field24      float64\n",
       "form_field25      float64\n",
       "form_field26      float64\n",
       "form_field27      float64\n",
       "form_field28      float64\n",
       "form_field29      float64\n",
       "form_field30      float64\n",
       "form_field31      float64\n",
       "form_field32      float64\n",
       "form_field33      float64\n",
       "form_field34      float64\n",
       "form_field35      float64\n",
       "form_field36      float64\n",
       "form_field37      float64\n",
       "form_field38      float64\n",
       "form_field39      float64\n",
       "form_field40      float64\n",
       "form_field41      float64\n",
       "form_field42      float64\n",
       "form_field43      float64\n",
       "form_field44      float64\n",
       "form_field45      float64\n",
       "form_field46      float64\n",
       "form_field47       object\n",
       "form_field48      float64\n",
       "form_field49      float64\n",
       "form_field50      float64\n",
       "default_status     object\n",
       "dtype: object"
      ]
     },
     "execution_count": 8,
     "metadata": {},
     "output_type": "execute_result"
    }
   ],
   "source": [
    "train.dtypes"
   ]
  },
  {
   "cell_type": "code",
   "execution_count": 9,
   "metadata": {},
   "outputs": [
    {
     "data": {
      "text/plain": [
       "no     42285\n",
       "yes    13715\n",
       "Name: default_status, dtype: int64"
      ]
     },
     "execution_count": 9,
     "metadata": {},
     "output_type": "execute_result"
    }
   ],
   "source": [
    "train['default_status'].value_counts()"
   ]
  },
  {
   "cell_type": "code",
   "execution_count": 10,
   "metadata": {},
   "outputs": [
    {
     "data": {
      "text/plain": [
       "no     0.755089\n",
       "yes    0.244911\n",
       "Name: default_status, dtype: float64"
      ]
     },
     "execution_count": 10,
     "metadata": {},
     "output_type": "execute_result"
    }
   ],
   "source": [
    "train['default_status'].value_counts(normalize=True)"
   ]
  },
  {
   "cell_type": "code",
   "execution_count": 11,
   "metadata": {},
   "outputs": [
    {
     "data": {
      "text/plain": [
       "Applicant_ID          0\n",
       "form_field1        2529\n",
       "form_field2        3844\n",
       "form_field3         355\n",
       "form_field4         355\n",
       "form_field5         355\n",
       "form_field6       13360\n",
       "form_field7        5163\n",
       "form_field8       13360\n",
       "form_field9        8008\n",
       "form_field10        355\n",
       "form_field11      31421\n",
       "form_field12       9895\n",
       "form_field13       5889\n",
       "form_field14          0\n",
       "form_field15      22475\n",
       "form_field16      13036\n",
       "form_field17      11151\n",
       "form_field18      10402\n",
       "form_field19          4\n",
       "form_field20        355\n",
       "form_field21      15854\n",
       "form_field22      20400\n",
       "form_field23      28123\n",
       "form_field24      13297\n",
       "form_field25       5450\n",
       "form_field26       7438\n",
       "form_field27       9299\n",
       "form_field28        355\n",
       "form_field29        355\n",
       "form_field30      25509\n",
       "form_field31      39408\n",
       "form_field32       5450\n",
       "form_field33       1256\n",
       "form_field34        355\n",
       "form_field35      23148\n",
       "form_field36       1995\n",
       "form_field37       5450\n",
       "form_field38        355\n",
       "form_field39       4211\n",
       "form_field40      43729\n",
       "form_field41      38229\n",
       "form_field42       1323\n",
       "form_field43        568\n",
       "form_field44       5383\n",
       "form_field45      31317\n",
       "form_field46      15904\n",
       "form_field47          0\n",
       "form_field48      20889\n",
       "form_field49        355\n",
       "form_field50      11056\n",
       "default_status        0\n",
       "dtype: int64"
      ]
     },
     "execution_count": 11,
     "metadata": {},
     "output_type": "execute_result"
    }
   ],
   "source": [
    "train.isnull().sum()"
   ]
  },
  {
   "cell_type": "code",
   "execution_count": 12,
   "metadata": {},
   "outputs": [],
   "source": [
    "train['form_field47'].fillna(train['form_field47'].mode()[0], inplace=True)"
   ]
  },
  {
   "cell_type": "code",
   "execution_count": 13,
   "metadata": {},
   "outputs": [],
   "source": [
    "train.fillna(train.median(), inplace=True)"
   ]
  },
  {
   "cell_type": "code",
   "execution_count": 14,
   "metadata": {},
   "outputs": [
    {
     "data": {
      "text/plain": [
       "Applicant_ID      0\n",
       "form_field1       0\n",
       "form_field2       0\n",
       "form_field3       0\n",
       "form_field4       0\n",
       "form_field5       0\n",
       "form_field6       0\n",
       "form_field7       0\n",
       "form_field8       0\n",
       "form_field9       0\n",
       "form_field10      0\n",
       "form_field11      0\n",
       "form_field12      0\n",
       "form_field13      0\n",
       "form_field14      0\n",
       "form_field15      0\n",
       "form_field16      0\n",
       "form_field17      0\n",
       "form_field18      0\n",
       "form_field19      0\n",
       "form_field20      0\n",
       "form_field21      0\n",
       "form_field22      0\n",
       "form_field23      0\n",
       "form_field24      0\n",
       "form_field25      0\n",
       "form_field26      0\n",
       "form_field27      0\n",
       "form_field28      0\n",
       "form_field29      0\n",
       "form_field30      0\n",
       "form_field31      0\n",
       "form_field32      0\n",
       "form_field33      0\n",
       "form_field34      0\n",
       "form_field35      0\n",
       "form_field36      0\n",
       "form_field37      0\n",
       "form_field38      0\n",
       "form_field39      0\n",
       "form_field40      0\n",
       "form_field41      0\n",
       "form_field42      0\n",
       "form_field43      0\n",
       "form_field44      0\n",
       "form_field45      0\n",
       "form_field46      0\n",
       "form_field47      0\n",
       "form_field48      0\n",
       "form_field49      0\n",
       "form_field50      0\n",
       "default_status    0\n",
       "dtype: int64"
      ]
     },
     "execution_count": 14,
     "metadata": {},
     "output_type": "execute_result"
    }
   ],
   "source": [
    "train.isnull().sum()"
   ]
  },
  {
   "cell_type": "code",
   "execution_count": 15,
   "metadata": {},
   "outputs": [],
   "source": [
    "test['form_field47'].fillna(test['form_field47'].mode()[0], inplace=True)"
   ]
  },
  {
   "cell_type": "code",
   "execution_count": 16,
   "metadata": {},
   "outputs": [],
   "source": [
    "test.fillna(test.median(), inplace=True)"
   ]
  },
  {
   "cell_type": "code",
   "execution_count": 17,
   "metadata": {},
   "outputs": [
    {
     "data": {
      "image/png": "[encoded data removed]",
      "text/plain": [
       "<Figure size 432x288 with 1 Axes>"
      ]
     },
     "metadata": {
      "needs_background": "light"
     },
     "output_type": "display_data"
    }
   ],
   "source": [
    "train['form_field40_log'] =np.log(train['form_field40'])\n",
    "train['form_field40_log'].hist(bins=20)\n",
    "test['form_field40_log'] =np.log(test['form_field40'])"
   ]
  },
  {
   "cell_type": "code",
   "execution_count": 18,
   "metadata": {},
   "outputs": [],
   "source": [
    "train = train.drop('Applicant_ID',axis=1)\n",
    "test = test.drop('Applicant_ID',axis=1)"
   ]
  },
  {
   "cell_type": "code",
   "execution_count": 19,
   "metadata": {},
   "outputs": [],
   "source": [
    "train = train.drop('form_field48',axis=1)\n",
    "test = test.drop('form_field48',axis=1)"
   ]
  },
  {
   "cell_type": "code",
   "execution_count": 20,
   "metadata": {},
   "outputs": [],
   "source": [
    "train = train.drop('form_field32',axis=1)\n",
    "test = test.drop('form_field32',axis=1)"
   ]
  },
  {
   "cell_type": "code",
   "execution_count": 21,
   "metadata": {},
   "outputs": [],
   "source": [
    "train = train.drop('form_field47',axis=1)\n",
    "test = test.drop('form_field47',axis=1)"
   ]
  },
  {
   "cell_type": "code",
   "execution_count": 22,
   "metadata": {},
   "outputs": [],
   "source": [
    "train = train.drop('form_field49',axis=1)\n",
    "test = test.drop('form_field49',axis=1)"
   ]
  },
  {
   "cell_type": "code",
   "execution_count": 23,
   "metadata": {},
   "outputs": [],
   "source": [
    "train = train.drop('form_field33',axis=1)\n",
    "test = test.drop('form_field33',axis=1)"
   ]
  },
  {
   "cell_type": "code",
   "execution_count": 24,
   "metadata": {},
   "outputs": [],
   "source": [
    "X = train.drop('default_status',1)\n",
    "y = train.default_status"
   ]
  },
  {
   "cell_type": "code",
   "execution_count": 25,
   "metadata": {},
   "outputs": [],
   "source": [
    "X =pd.get_dummies(X)\n",
    "train=pd.get_dummies(train)\n",
    "test=pd.get_dummies(test)"
   ]
  },
  {
   "cell_type": "code",
   "execution_count": 26,
   "metadata": {},
   "outputs": [],
   "source": [
    "#split the data into training and testing sets\n",
    "\n",
    "from sklearn.model_selection import train_test_split\n",
    "x_train, x_test, y_train, y_test = train_test_split(X, y, test_size=0.2, random_state=1)"
   ]
  },
  {
   "cell_type": "code",
   "execution_count": 27,
   "metadata": {},
   "outputs": [
    {
     "name": "stdout",
     "output_type": "stream",
     "text": [
      "Requirement already satisfied: imblearn in c:\\users\\user\\documents\\books\\happy\\lib\\site-packages (0.0)\n",
      "Requirement already satisfied: imbalanced-learn in c:\\users\\user\\documents\\books\\happy\\lib\\site-packages (from imblearn) (0.7.0)\n",
      "Requirement already satisfied: scikit-learn>=0.23 in c:\\users\\user\\documents\\books\\happy\\lib\\site-packages (from imbalanced-learn->imblearn) (0.23.2)\n",
      "Requirement already satisfied: numpy>=1.13.3 in c:\\users\\user\\documents\\books\\happy\\lib\\site-packages (from imbalanced-learn->imblearn) (1.16.5)\n",
      "Requirement already satisfied: scipy>=0.19.1 in c:\\users\\user\\documents\\books\\happy\\lib\\site-packages (from imbalanced-learn->imblearn) (1.3.1)\n",
      "Requirement already satisfied: joblib>=0.11 in c:\\users\\user\\documents\\books\\happy\\lib\\site-packages (from imbalanced-learn->imblearn) (0.13.2)\n",
      "Requirement already satisfied: threadpoolctl>=2.0.0 in c:\\users\\user\\documents\\books\\happy\\lib\\site-packages (from scikit-learn>=0.23->imbalanced-learn->imblearn) (2.1.0)\n"
     ]
    }
   ],
   "source": [
    "!pip install imblearn"
   ]
  },
  {
   "cell_type": "code",
   "execution_count": 28,
   "metadata": {},
   "outputs": [],
   "source": [
    "import imblearn\n",
    "from imblearn.over_sampling import SMOTE\n",
    "smote = SMOTE(random_state=1)\n",
    "x_train_balanced, y_balanced = smote.fit_sample(x_train, y_train)\n",
    "x_train_balanced = pd.DataFrame(x_train_balanced, columns=x_train.columns)"
   ]
  },
  {
   "cell_type": "code",
   "execution_count": 29,
   "metadata": {},
   "outputs": [],
   "source": [
    "from sklearn.tree import DecisionTreeClassifier\n",
    "from sklearn.ensemble import RandomForestClassifier\n",
    "from sklearn.linear_model import ElasticNet, BayesianRidge"
   ]
  },
  {
   "cell_type": "code",
   "execution_count": 30,
   "metadata": {},
   "outputs": [
    {
     "name": "stdout",
     "output_type": "stream",
     "text": [
      "Accuracy: 0.8039285714285714\n"
     ]
    }
   ],
   "source": [
    "#Create a Gaussian Classifier\n",
    "clf=RandomForestClassifier(n_estimators=100)\n",
    "\n",
    "#Train the model using the training sets y_pred=clf.predict(X_test)\n",
    "clf.fit(x_train,y_train)\n",
    "\n",
    "y_pred=clf.predict(x_test)\n",
    "\n",
    "#Import scikit-learn metrics module for accuracy calculation\n",
    "from sklearn import metrics\n",
    "# Model Accuracy, how often is the classifier correct?\n",
    "print(\"Accuracy:\",metrics.accuracy_score(y_test, y_pred))"
   ]
  },
  {
   "cell_type": "code",
   "execution_count": 31,
   "metadata": {},
   "outputs": [
    {
     "name": "stdout",
     "output_type": "stream",
     "text": [
      "0 0.7999107142857143\n",
      "1 0.7991964285714286\n",
      "2 0.8\n",
      "3 0.7994642857142857\n",
      "4 0.8008035714285714\n",
      "5 0.7983035714285714\n",
      "6 0.8036607142857143\n",
      "7 0.8016964285714285\n"
     ]
    }
   ],
   "source": [
    "RCF_algo = RandomForestClassifier()\n",
    "for i in range(8):\n",
    "    model_rcf     = RCF_algo.fit(x_train, y_train)\n",
    "    ratings = model_rcf.score(x_test, y_test)\n",
    "    print(i, ratings)"
   ]
  },
  {
   "cell_type": "code",
   "execution_count": 32,
   "metadata": {},
   "outputs": [],
   "source": [
    "from sklearn.model_selection import StratifiedKFold"
   ]
  },
  {
   "cell_type": "code",
   "execution_count": 33,
   "metadata": {},
   "outputs": [
    {
     "data": {
      "text/plain": [
       "LogisticRegression()"
      ]
     },
     "execution_count": 33,
     "metadata": {},
     "output_type": "execute_result"
    }
   ],
   "source": [
    "from sklearn.linear_model import LogisticRegression\n",
    "from sklearn.metrics import accuracy_score\n",
    "model= LogisticRegression()\n",
    "model.fit(x_train,y_train)"
   ]
  },
  {
   "cell_type": "code",
   "execution_count": 34,
   "metadata": {},
   "outputs": [
    {
     "data": {
      "text/plain": [
       "0.7622321428571428"
      ]
     },
     "execution_count": 34,
     "metadata": {},
     "output_type": "execute_result"
    }
   ],
   "source": [
    "pred_test =model.predict(x_test)\n",
    "accuracy_score(y_test,pred_test)"
   ]
  },
  {
   "cell_type": "code",
   "execution_count": 35,
   "metadata": {},
   "outputs": [
    {
     "name": "stdout",
     "output_type": "stream",
     "text": [
      "\n",
      "1 of kfold5\n",
      "accuracy_score 0.7529464285714286\n",
      "\n",
      " Mean Validation Accuracy 0.7529464285714286\n",
      "\n",
      "2 of kfold5\n",
      "accuracy_score 0.7533035714285714\n",
      "\n",
      " Mean Validation Accuracy 0.753125\n",
      "\n",
      "3 of kfold5\n",
      "accuracy_score 0.755625\n",
      "\n",
      " Mean Validation Accuracy 0.7539583333333333\n",
      "\n",
      "4 of kfold5\n",
      "accuracy_score 0.7525\n",
      "\n",
      " Mean Validation Accuracy 0.75359375\n",
      "\n",
      "5 of kfold5\n",
      "accuracy_score 0.7541071428571429\n",
      "\n",
      " Mean Validation Accuracy 0.7536964285714285\n"
     ]
    }
   ],
   "source": [
    "i=1\n",
    "mean=0\n",
    "kf=StratifiedKFold(n_splits=5,random_state=1)\n",
    "for train_index,test_index in kf.split(X,y):\n",
    "    print('\\n{} of kfold{}'.format(i,kf.n_splits))\n",
    "    xtr,xvl= X.loc[train_index],X.loc[test_index]\n",
    "    ytr,yvl= y[train_index],y[test_index]\n",
    "    model = LogisticRegression(random_state=1)\n",
    "    model.fit(xtr,ytr)\n",
    "    pred_test=model.predict(xvl)\n",
    "    score=accuracy_score(yvl,pred_test)\n",
    "    mean +=score\n",
    "    print ('accuracy_score',score)\n",
    "    i+=1\n",
    "    pred_test=model.predict(test)\n",
    "    pred=model.predict_proba(xvl)[:,1]\n",
    "    print ('\\n Mean Validation Accuracy',mean/(i-1))"
   ]
  },
  {
   "cell_type": "code",
   "execution_count": 36,
   "metadata": {},
   "outputs": [
    {
     "name": "stdout",
     "output_type": "stream",
     "text": [
      "\n",
      "1 of kfold 5\n",
      "accuracy_score 0.7224107142857142\n",
      "\n",
      " Mean Validation Accuracy 0.7224107142857142\n",
      "\n",
      "2 of kfold 5\n",
      "accuracy_score 0.72\n",
      "\n",
      " Mean Validation Accuracy 0.7212053571428572\n",
      "\n",
      "3 of kfold 5\n",
      "accuracy_score 0.7194642857142857\n",
      "\n",
      " Mean Validation Accuracy 0.7206250000000001\n",
      "\n",
      "4 of kfold 5\n",
      "accuracy_score 0.72375\n",
      "\n",
      " Mean Validation Accuracy 0.72140625\n",
      "\n",
      "5 of kfold 5\n",
      "accuracy_score 0.7148214285714286\n",
      "\n",
      " Mean Validation Accuracy 0.7200892857142858\n"
     ]
    }
   ],
   "source": [
    "from sklearn import tree\n",
    "\n",
    "i=1\n",
    "mean=0\n",
    "kf= StratifiedKFold(n_splits=5,random_state=1,shuffle=True)\n",
    "for train_index,test_index in kf.split(X,y):\n",
    "    print('\\n{} of kfold {}'.format(i,kf.n_splits))\n",
    "    \n",
    "    xtr,xvl = X.loc[train_index],X.loc[test_index]\n",
    "    ytr,yvl = y[train_index],y[test_index]\n",
    "    model= tree.DecisionTreeClassifier(random_state=1)\n",
    "    model.fit(xtr,ytr)\n",
    "    pred_test=model.predict(xvl)\n",
    "    score=accuracy_score(yvl,pred_test)\n",
    "    mean +=score\n",
    "    print('accuracy_score',score)\n",
    "    i+=1\n",
    "    pred_test = model.predict(test)\n",
    "    pred = model.predict_proba(xvl)[:,1]\n",
    "    print('\\n Mean Validation Accuracy',mean/(i-1))"
   ]
  },
  {
   "cell_type": "code",
   "execution_count": 37,
   "metadata": {},
   "outputs": [],
   "source": [
    "from sklearn.ensemble import RandomForestClassifier"
   ]
  },
  {
   "cell_type": "code",
   "execution_count": 38,
   "metadata": {},
   "outputs": [
    {
     "name": "stdout",
     "output_type": "stream",
     "text": [
      "\n",
      "1 of kfold 5\n",
      "accuracy_score 0.8042857142857143\n",
      "\n",
      " Mean Validation Accuracy 0.8042857142857143\n",
      "\n",
      "2 of kfold 5\n",
      "accuracy_score 0.7947321428571429\n",
      "\n",
      " Mean Validation Accuracy 0.7995089285714285\n",
      "\n",
      "3 of kfold 5\n",
      "accuracy_score 0.7930357142857143\n",
      "\n",
      " Mean Validation Accuracy 0.7973511904761904\n",
      "\n",
      "4 of kfold 5\n",
      "accuracy_score 0.7971428571428572\n",
      "\n",
      " Mean Validation Accuracy 0.7972991071428571\n",
      "\n",
      "5 of kfold 5\n",
      "accuracy_score 0.8017857142857143\n",
      "\n",
      " Mean Validation Accuracy 0.7981964285714286\n"
     ]
    }
   ],
   "source": [
    "i=1\n",
    "mean=0\n",
    "kf= StratifiedKFold(n_splits=5,random_state=1,shuffle=True)\n",
    "for train_index,test_index in kf.split(X,y):\n",
    "    print('\\n{} of kfold {}'.format(i,kf.n_splits))\n",
    "    \n",
    "    xtr,xvl = X.loc[train_index],X.loc[test_index]\n",
    "    ytr,yvl = y[train_index],y[test_index]\n",
    "    model= RandomForestClassifier(random_state=1, max_depth=10)\n",
    "    model.fit(xtr,ytr)\n",
    "    pred_test=model.predict(xvl)\n",
    "    score=accuracy_score(yvl,pred_test)\n",
    "    mean +=score\n",
    "    print('accuracy_score',score)\n",
    "    i+=1\n",
    "    pred_test = model.predict(test)\n",
    "    pred = model.predict_proba(xvl)[:,1]\n",
    "    print('\\n Mean Validation Accuracy',mean/(i-1))"
   ]
  },
  {
   "cell_type": "code",
   "execution_count": 39,
   "metadata": {},
   "outputs": [],
   "source": [
    "from xgboost import XGBClassifier\n"
   ]
  },
  {
   "cell_type": "code",
   "execution_count": 40,
   "metadata": {},
   "outputs": [
    {
     "name": "stdout",
     "output_type": "stream",
     "text": [
      "\n",
      "1 of kfold 5\n",
      "accuracy_score 0.803125\n",
      "\n",
      " Mean Validation Accuracy 0.803125\n",
      "\n",
      "2 of kfold 5\n",
      "accuracy_score 0.7953571428571429\n",
      "\n",
      " Mean Validation Accuracy 0.7992410714285714\n",
      "\n",
      "3 of kfold 5\n",
      "accuracy_score 0.7961607142857143\n",
      "\n",
      " Mean Validation Accuracy 0.7982142857142858\n",
      "\n",
      "4 of kfold 5\n",
      "accuracy_score 0.7974107142857143\n",
      "\n",
      " Mean Validation Accuracy 0.7980133928571429\n",
      "\n",
      "5 of kfold 5\n",
      "accuracy_score 0.7985714285714286\n",
      "\n",
      " Mean Validation Accuracy 0.798125\n"
     ]
    }
   ],
   "source": [
    "i=1\n",
    "mean=0\n",
    "kf= StratifiedKFold(n_splits=5,random_state=1,shuffle=True)\n",
    "for train_index,test_index in kf.split(X,y):\n",
    "    print('\\n{} of kfold {}'.format(i,kf.n_splits))\n",
    "    \n",
    "    xtr,xvl = X.loc[train_index],X.loc[test_index]\n",
    "    ytr,yvl = y[train_index],y[test_index]\n",
    "    model= XGBClassifier(max_depth=4, n_estimators=50)\n",
    "    model.fit(xtr,ytr)\n",
    "    pred_test=model.predict(xvl)\n",
    "    score=accuracy_score(yvl,pred_test)\n",
    "    mean +=score\n",
    "    print('accuracy_score',score)\n",
    "    i+=1\n",
    "    pred_test = model.predict(test)\n",
    "    pred = model.predict_proba(xvl)[:,1]\n",
    "    print('\\n Mean Validation Accuracy',mean/(i-1))"
   ]
  },
  {
   "cell_type": "code",
   "execution_count": 41,
   "metadata": {},
   "outputs": [],
   "source": [
    "pred_test = model.predict_proba(test)[:,1]"
   ]
  },
  {
   "cell_type": "code",
   "execution_count": 42,
   "metadata": {},
   "outputs": [],
   "source": [
    "submission = pd.read_csv('C:/Users/USER/Downloads/SampleSubmission.csv')\n"
   ]
  },
  {
   "cell_type": "code",
   "execution_count": 43,
   "metadata": {},
   "outputs": [],
   "source": [
    "submission['default_status'].replace(0,'N', inplace=True)\n",
    "submission['default_status'].replace(1,'Y', inplace=True)"
   ]
  },
  {
   "cell_type": "code",
   "execution_count": 45,
   "metadata": {},
   "outputs": [],
   "source": [
    "pd.DataFrame(submission,columns=['Applicant_ID','default_status']).to_csv('Desktop/last_submission.csv',index=False)"
   ]
  },
  {
   "cell_type": "code",
   "execution_count": null,
   "metadata": {},
   "outputs": [],
   "source": []
  }
 ],
 "metadata": {
  "kernelspec": {
   "display_name": "Python 3",
   "language": "python",
   "name": "python3"
  },
  "language_info": {
   "codemirror_mode": {
    "name": "ipython",
    "version": 3
   },
   "file_extension": ".py",
   "mimetype": "text/x-python",
   "name": "python",
   "nbconvert_exporter": "python",
   "pygments_lexer": "ipython3",
   "version": "3.7.4"
  }
 },
 "nbformat": 4,
 "nbformat_minor": 2
}
